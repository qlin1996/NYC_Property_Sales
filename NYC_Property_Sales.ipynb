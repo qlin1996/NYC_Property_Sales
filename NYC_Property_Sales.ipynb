{
  "nbformat": 4,
  "nbformat_minor": 0,
  "metadata": {
    "colab": {
      "name": "NYC Property Sales",
      "provenance": [],
      "collapsed_sections": [],
      "authorship_tag": "ABX9TyM9BeZ24O31vbhzt+vLnGwi",
      "include_colab_link": true
    },
    "kernelspec": {
      "name": "python3",
      "display_name": "Python 3"
    }
  },
  "cells": [
    {
      "cell_type": "markdown",
      "metadata": {
        "id": "view-in-github",
        "colab_type": "text"
      },
      "source": [
        "<a href=\"https://colab.research.google.com/github/qlin1996/NYC_Property_Sales/blob/master/NYC_Property_Sales.ipynb\" target=\"_parent\"><img src=\"https://colab.research.google.com/assets/colab-badge.svg\" alt=\"Open In Colab\"/></a>"
      ]
    },
    {
      "cell_type": "markdown",
      "metadata": {
        "id": "_QMg4HBRR8zh",
        "colab_type": "text"
      },
      "source": [
        "# House Cleaning"
      ]
    },
    {
      "cell_type": "markdown",
      "metadata": {
        "id": "HtDiYcpEFYBL",
        "colab_type": "text"
      },
      "source": [
        "### Import Libraries, Read Data, and Set Style"
      ]
    },
    {
      "cell_type": "code",
      "metadata": {
        "id": "45Nfpl3a4i0G",
        "colab_type": "code",
        "colab": {}
      },
      "source": [
        "import numpy as np\n",
        "import pandas as pd\n",
        "\n",
        "import matplotlib.pyplot as plt\n",
        "%matplotlib inline\n",
        "import seaborn as sns\n",
        "\n",
        "import io\n",
        "nyc_properties_sales = pd.read_csv(io.BytesIO(uploaded['NYC_Citywide_Annualized_Calendar_Sales_Update.csv']))\n",
        "\n",
        "sns.set(context= 'notebook', style='ticks', palette= 'GnBu_d', font='sans-serifs', font_scale=1.2, color_codes=True, rc={'lines.linewidth': 1.75, 'figure.figsize': (9, 6)})"
      ],
      "execution_count": 0,
      "outputs": []
    },
    {
      "cell_type": "markdown",
      "metadata": {
        "id": "XGUVpp8mHQ1A",
        "colab_type": "text"
      },
      "source": [
        "### Clean Data"
      ]
    },
    {
      "cell_type": "code",
      "metadata": {
        "id": "Ra03XUw-Hi9x",
        "colab_type": "code",
        "colab": {}
      },
      "source": [
        "#renaming columns\n",
        "nyc_properties_sales.rename(columns={'BUILDING CLASS CATEGORY': 'BUILDING CLASS', 'BLOCK':'tax block', 'LOT':'tax lot', 'BIN':'Building Identification Number', 'BBL':'Borough, Block, and Lot', 'NTA':'Neighborhood Tabulation Area'}, inplace=True)\n",
        "\n",
        "# make column names all uppercase\n",
        "nyc_properties_sales.columns = [x.upper() for x in nyc_properties_sales.columns]\n",
        "\n",
        "# convert the values (1-5) in the \"BOROUGH\" column to borough names\n",
        "nyc_properties_sales['BOROUGH'].replace({1:'MANHATTAN', 2:'BRONX', 3: 'BROOKLYN', 4: 'QUEENS', 5:'STATEN ISLAND'}, inplace=True)\n",
        "\n",
        "# make values in 'NEIGHBORHOOD TABULATION AREA' all uppercase\n",
        "nyc_properties_sales['NEIGHBORHOOD TABULATION AREA'] = nyc_properties_sales['NEIGHBORHOOD TABULATION AREA'].map(lambda x:x.upper(), na_action='ignore')"
      ],
      "execution_count": 0,
      "outputs": []
    },
    {
      "cell_type": "markdown",
      "metadata": {
        "id": "4O0QsfB6GG6j",
        "colab_type": "text"
      },
      "source": [
        "### Data Dictionary\n",
        "\n",
        "**BOROUGH**\\\n",
        "**NEIGHBORHOOD**: DOF assessors determine the neighborhood name in the course of valuing properties\\\n",
        "**BUILDING CLASS**: Identifies properties broad usage (e.g. One Family Home)\\\n",
        "**TAX CLASS AS OF FINAL ROLL**: Present Tax Class. Every property in the city is assigned to one of four tax classes based on the use of the property. Classes 1: Residential property of up to three units, vacant land that is zoned for residential use, and most condominiums that are not more than three stories. Class 2: All other property that is primarily residential, such as cooperatives and condominiums. Class 3: Property with equipment owned by a gas, telephone or electric company. Class 4: All other properties not included in class 1,2, and 3, such as\n",
        "offices, factories, warehouses, garage buildings, etc. \\\n",
        "**TAX BLOCK**: A sub-division of the borough on which real properties are located\\\n",
        "**TAX LOT**: A subdivision of a tax Block and represents the property unique location\\\n",
        "**EASE-MENT**: An easement is a right, such as a right of way, which allows an entity to make limited use of another's real property. For example: MTA railroad tracks that run across a portion of another\n",
        "property. \\\n",
        "**BUILDING CLASS AS OF FINAL ROLL**: The building classification used to describe a property's constructive use. \\\n",
        "**ADDRESS**: The street address of the property as listed on the Sales File. Coop sales include the apartment in the address field.\\\n",
        "**APARTMENT NUMBER**\\\n",
        "**ZIP CODE**\\\n",
        "**RESIDENTIAL UNITS**: The number of residential units at the listed property\\\n",
        "**COMMERCIAL UNITS**: The number of commercial units at the listed property\\\n",
        "**TOTAL UNITS**: The total number of units at the listed property.\\\n",
        "**LAND SQUARE FEET**: The land area of the property listed in square feet. \\\n",
        "**GROSS SQUARE FEET**: The total area of all the floors of a building as measured from the exterior surfaces of the\n",
        "outside walls of the building, including the land area and space within any building or structure\n",
        "on the property.\\\n",
        "**YEAR BUILT**: Year the structure on the property was built. \\\n",
        "**TAX CLASS AT TIME OF SALE** \\\n",
        "**BUILDING CLASS AT TIME OF SALE**\\\n",
        "**SALE PRICE**: Price paid for the property. A $0 sale indicates that there was a transfer of ownership without a cash consideration.\\\n",
        "**SALE DATE**\\\n",
        "**LATITUDE**\\\n",
        "**LONGITUDE**\\\n",
        "**COMMUNITY BOARD**: New York City Community District where the building is located\\\n",
        "**COUNCIL DISTRICT**: New York City Council District where the building is located\\\n",
        "**CENSUS TRACT**: U.S. Census Tract where the building is located\\\n",
        "**BUILDING IDENTIFICATION NUMBER**: A unique identifier for each building in the City\\\n",
        "**BOROUGH, BLOCK, AND LOT**: A unique identifier for each tax lot in the City\\\n",
        "**NEIGHBORHOOD TABULATION AREA**: New York City Neighborhood area where the building is located  "
      ]
    },
    {
      "cell_type": "markdown",
      "metadata": {
        "id": "RLmpVWkuVSZh",
        "colab_type": "text"
      },
      "source": [
        "# Data Analysis"
      ]
    },
    {
      "cell_type": "code",
      "metadata": {
        "id": "oGUoGTbSSQ64",
        "colab_type": "code",
        "outputId": "fdbce96c-1dc0-4538-e078-e57e925fe36d",
        "colab": {
          "base_uri": "https://localhost:8080/",
          "height": 236
        }
      },
      "source": [
        "nyc_properties_sales.head(1)"
      ],
      "execution_count": 121,
      "outputs": [
        {
          "output_type": "execute_result",
          "data": {
            "text/html": [
              "<div>\n",
              "<style scoped>\n",
              "    .dataframe tbody tr th:only-of-type {\n",
              "        vertical-align: middle;\n",
              "    }\n",
              "\n",
              "    .dataframe tbody tr th {\n",
              "        vertical-align: top;\n",
              "    }\n",
              "\n",
              "    .dataframe thead th {\n",
              "        text-align: right;\n",
              "    }\n",
              "</style>\n",
              "<table border=\"1\" class=\"dataframe\">\n",
              "  <thead>\n",
              "    <tr style=\"text-align: right;\">\n",
              "      <th></th>\n",
              "      <th>BOROUGH</th>\n",
              "      <th>NEIGHBORHOOD</th>\n",
              "      <th>BUILDING CLASS</th>\n",
              "      <th>TAX CLASS AS OF FINAL ROLL</th>\n",
              "      <th>TAX BLOCK</th>\n",
              "      <th>TAX LOT</th>\n",
              "      <th>EASE-MENT</th>\n",
              "      <th>BUILDING CLASS AS OF FINAL ROLL</th>\n",
              "      <th>ADDRESS</th>\n",
              "      <th>APARTMENT NUMBER</th>\n",
              "      <th>ZIP CODE</th>\n",
              "      <th>RESIDENTIAL UNITS</th>\n",
              "      <th>COMMERCIAL UNITS</th>\n",
              "      <th>TOTAL UNITS</th>\n",
              "      <th>LAND SQUARE FEET</th>\n",
              "      <th>GROSS SQUARE FEET</th>\n",
              "      <th>YEAR BUILT</th>\n",
              "      <th>TAX CLASS AT TIME OF SALE</th>\n",
              "      <th>BUILDING CLASS AT TIME OF SALE</th>\n",
              "      <th>SALE PRICE</th>\n",
              "      <th>SALE DATE</th>\n",
              "      <th>LATITUDE</th>\n",
              "      <th>LONGITUDE</th>\n",
              "      <th>COMMUNITY BOARD</th>\n",
              "      <th>COUNCIL DISTRICT</th>\n",
              "      <th>CENSUS TRACT</th>\n",
              "      <th>BUILDING IDENTIFICATION NUMBER</th>\n",
              "      <th>BOROUGH, BLOCK, AND LOT</th>\n",
              "      <th>NEIGHBORHOOD TABULATION AREA</th>\n",
              "    </tr>\n",
              "  </thead>\n",
              "  <tbody>\n",
              "    <tr>\n",
              "      <th>0</th>\n",
              "      <td>MANHATTAN</td>\n",
              "      <td>FINANCIAL</td>\n",
              "      <td>14  RENTALS - 4-10 UNIT</td>\n",
              "      <td>2A</td>\n",
              "      <td>7</td>\n",
              "      <td>38</td>\n",
              "      <td>NaN</td>\n",
              "      <td>S9</td>\n",
              "      <td>60 PEARL STREET</td>\n",
              "      <td>NaN</td>\n",
              "      <td>10004.0</td>\n",
              "      <td>3.0</td>\n",
              "      <td>2.0</td>\n",
              "      <td>5.0</td>\n",
              "      <td>1,491</td>\n",
              "      <td>7,485</td>\n",
              "      <td>1900.0</td>\n",
              "      <td>2</td>\n",
              "      <td>S9</td>\n",
              "      <td>4027000</td>\n",
              "      <td>01/01/2016</td>\n",
              "      <td>40.703553</td>\n",
              "      <td>-74.011152</td>\n",
              "      <td>101.0</td>\n",
              "      <td>1.0</td>\n",
              "      <td>9.0</td>\n",
              "      <td>1000014.0</td>\n",
              "      <td>1.000070e+09</td>\n",
              "      <td>BATTERY PARK CITY-LOWER MANHATTAN</td>\n",
              "    </tr>\n",
              "  </tbody>\n",
              "</table>\n",
              "</div>"
            ],
            "text/plain": [
              "     BOROUGH  ...       NEIGHBORHOOD TABULATION AREA\n",
              "0  MANHATTAN  ...  BATTERY PARK CITY-LOWER MANHATTAN\n",
              "\n",
              "[1 rows x 29 columns]"
            ]
          },
          "metadata": {
            "tags": []
          },
          "execution_count": 121
        }
      ]
    },
    {
      "cell_type": "code",
      "metadata": {
        "id": "oWSQ0O3IE4KA",
        "colab_type": "code",
        "outputId": "977b5b6a-5b2a-4b08-b25e-12272b6f73af",
        "colab": {
          "base_uri": "https://localhost:8080/",
          "height": 204
        }
      },
      "source": [
        "# Top 5 Building Classes\n",
        "top_building_classes_count = nyc_properties_sales['BUILDING CLASS'].value_counts()\n",
        "top_building_classes = top_building_classes_count.head().reset_index()\n",
        "top_building_classes.rename(columns={'index':'BUILDING CLASS', 'BUILDING CLASS':'NUMBER OF BUILDINGS'}, inplace=True)\n",
        "top_building_classes"
      ],
      "execution_count": 128,
      "outputs": [
        {
          "output_type": "execute_result",
          "data": {
            "text/html": [
              "<div>\n",
              "<style scoped>\n",
              "    .dataframe tbody tr th:only-of-type {\n",
              "        vertical-align: middle;\n",
              "    }\n",
              "\n",
              "    .dataframe tbody tr th {\n",
              "        vertical-align: top;\n",
              "    }\n",
              "\n",
              "    .dataframe thead th {\n",
              "        text-align: right;\n",
              "    }\n",
              "</style>\n",
              "<table border=\"1\" class=\"dataframe\">\n",
              "  <thead>\n",
              "    <tr style=\"text-align: right;\">\n",
              "      <th></th>\n",
              "      <th>BUILDING CLASS</th>\n",
              "      <th>NUMBER OF BUILDINGS</th>\n",
              "    </tr>\n",
              "  </thead>\n",
              "  <tbody>\n",
              "    <tr>\n",
              "      <th>0</th>\n",
              "      <td>01 ONE FAMILY DWELLINGS</td>\n",
              "      <td>57674</td>\n",
              "    </tr>\n",
              "    <tr>\n",
              "      <th>1</th>\n",
              "      <td>02 TWO FAMILY DWELLINGS</td>\n",
              "      <td>49164</td>\n",
              "    </tr>\n",
              "    <tr>\n",
              "      <th>2</th>\n",
              "      <td>10 COOPS - ELEVATOR APARTMENTS</td>\n",
              "      <td>38905</td>\n",
              "    </tr>\n",
              "    <tr>\n",
              "      <th>3</th>\n",
              "      <td>13 CONDOS - ELEVATOR APARTMENTS</td>\n",
              "      <td>36966</td>\n",
              "    </tr>\n",
              "    <tr>\n",
              "      <th>4</th>\n",
              "      <td>01  ONE FAMILY DWELLINGS</td>\n",
              "      <td>18618</td>\n",
              "    </tr>\n",
              "  </tbody>\n",
              "</table>\n",
              "</div>"
            ],
            "text/plain": [
              "                    BUILDING CLASS  NUMBER OF BUILDINGS\n",
              "0          01 ONE FAMILY DWELLINGS                57674\n",
              "1          02 TWO FAMILY DWELLINGS                49164\n",
              "2   10 COOPS - ELEVATOR APARTMENTS                38905\n",
              "3  13 CONDOS - ELEVATOR APARTMENTS                36966\n",
              "4         01  ONE FAMILY DWELLINGS                18618"
            ]
          },
          "metadata": {
            "tags": []
          },
          "execution_count": 128
        }
      ]
    },
    {
      "cell_type": "code",
      "metadata": {
        "id": "YBXtrlZFtCSc",
        "colab_type": "code",
        "colab": {
          "base_uri": "https://localhost:8080/",
          "height": 204
        },
        "outputId": "0db67e75-fdb7-4974-f0f1-953cd36d9c84"
      },
      "source": [
        "# Property Sales by Borough and Top 5 Building Class\n",
        "sales_by_borough_count = nyc_properties_sales.groupby('BOROUGH')['SALE DATE'].count()\n",
        "sales_by_borough = sales_by_borough_count.reset_index()\n",
        "sales_by_borough"
      ],
      "execution_count": 129,
      "outputs": [
        {
          "output_type": "execute_result",
          "data": {
            "text/html": [
              "<div>\n",
              "<style scoped>\n",
              "    .dataframe tbody tr th:only-of-type {\n",
              "        vertical-align: middle;\n",
              "    }\n",
              "\n",
              "    .dataframe tbody tr th {\n",
              "        vertical-align: top;\n",
              "    }\n",
              "\n",
              "    .dataframe thead th {\n",
              "        text-align: right;\n",
              "    }\n",
              "</style>\n",
              "<table border=\"1\" class=\"dataframe\">\n",
              "  <thead>\n",
              "    <tr style=\"text-align: right;\">\n",
              "      <th></th>\n",
              "      <th>BOROUGH</th>\n",
              "      <th>SALE DATE</th>\n",
              "    </tr>\n",
              "  </thead>\n",
              "  <tbody>\n",
              "    <tr>\n",
              "      <th>0</th>\n",
              "      <td>BRONX</td>\n",
              "      <td>30919</td>\n",
              "    </tr>\n",
              "    <tr>\n",
              "      <th>1</th>\n",
              "      <td>BROOKLYN</td>\n",
              "      <td>96958</td>\n",
              "    </tr>\n",
              "    <tr>\n",
              "      <th>2</th>\n",
              "      <td>MANHATTAN</td>\n",
              "      <td>74301</td>\n",
              "    </tr>\n",
              "    <tr>\n",
              "      <th>3</th>\n",
              "      <td>QUEENS</td>\n",
              "      <td>107707</td>\n",
              "    </tr>\n",
              "    <tr>\n",
              "      <th>4</th>\n",
              "      <td>STATEN ISLAND</td>\n",
              "      <td>35174</td>\n",
              "    </tr>\n",
              "  </tbody>\n",
              "</table>\n",
              "</div>"
            ],
            "text/plain": [
              "         BOROUGH  SALE DATE\n",
              "0          BRONX      30919\n",
              "1       BROOKLYN      96958\n",
              "2      MANHATTAN      74301\n",
              "3         QUEENS     107707\n",
              "4  STATEN ISLAND      35174"
            ]
          },
          "metadata": {
            "tags": []
          },
          "execution_count": 129
        }
      ]
    },
    {
      "cell_type": "markdown",
      "metadata": {
        "id": "ncJ4xow1qhj5",
        "colab_type": "text"
      },
      "source": [
        "# Data Visualizations"
      ]
    },
    {
      "cell_type": "markdown",
      "metadata": {
        "id": "xiyRSmakfg2H",
        "colab_type": "text"
      },
      "source": [
        "### Property Sales by Borough of Top 5 Building Classes"
      ]
    },
    {
      "cell_type": "code",
      "metadata": {
        "id": "u_LART4Zfdci",
        "colab_type": "code",
        "outputId": "bef1c259-6831-444a-cb43-09c46dc413d2",
        "colab": {
          "base_uri": "https://localhost:8080/",
          "height": 437
        }
      },
      "source": [
        "sns.barplot(x='BOROUGH', y= 'SALE DATE', data=sales_by_borough)\n",
        "plt.ylabel('NUMBER OF SALES')\n",
        "plt.title('PROPERTY SALES BY BOROUGH', fontsize=25, pad=20)\n",
        "plt.show()"
      ],
      "execution_count": 130,
      "outputs": [
        {
          "output_type": "display_data",
          "data": {
            "image/png": "[encoded data removed]",
            "text/plain": [
              "<Figure size 648x432 with 1 Axes>"
            ]
          },
          "metadata": {
            "tags": []
          }
        }
      ]
    }
  ]
}